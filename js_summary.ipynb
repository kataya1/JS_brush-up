{
 "cells": [
  {
   "cell_type": "code",
   "execution_count": null,
   "metadata": {},
   "outputs": [],
   "source": [
    "// https://github.com/n-riesco/ijavascript\n",
    "\n",
    "// command: ijsnotebook"
   ]
  },
  {
   "cell_type": "code",
   "execution_count": null,
   "metadata": {},
   "outputs": [
    {
     "ename": "",
     "evalue": "",
     "output_type": "error",
     "traceback": [
      "\u001b[1;31mFailed to start the Kernel. \n",
      "\u001b[1;31m/Users/kataya1/.nvm/versions/node/v18.12.1/lib/node_modules/ijavascript/node_modules/node-gyp-build/node-gyp-build.js:60\n",
      "\u001b[1;31m  throw new Error('No native build was found for ' + target + '\\n    loaded from: ' + dir + '\\n')\n",
      "\u001b[1;31m  ^\n",
      "\u001b[1;31m\n",
      "\u001b[1;31mError: No native build was found for platform=darwin arch=x64 runtime=electron abi=108 uv=1 libc=glibc node=18.12.1\n",
      "\u001b[1;31m    loaded from: /Users/kataya1/.nvm/versions/node/v18.12.1/lib/node_modules/ijavascript/node_modules/zeromq\n",
      "\u001b[1;31m\n",
      "\u001b[1;31m    at load.resolve.load.path (/Users/kataya1/.nvm/versions/node/v18.12.1/lib/node_modules/ijavascript/node_modules/node-gyp-build/node-gyp-build.js:60:9)\n",
      "\u001b[1;31m    at load (/Users/kataya1/.nvm/versions/node/v18.12.1/lib/node_modules/ijavascript/node_modules/node-gyp-build/node-gyp-build.js:22:30)\n",
      "\u001b[1;31m    at Object.<anonymous> (/Users/kataya1/.nvm/versions/node/v18.12.1/lib/node_modules/ijavascript/node_modules/zeromq/binding.js:1:43)\n",
      "\u001b[1;31m    at Module._compile (node:internal/modules/cjs/loader:1159:14)\n",
      "\u001b[1;31m    at Module._extensions..js (node:internal/modules/cjs/loader:1213:10)\n",
      "\u001b[1;31m    at Module.load (node:internal/modules/cjs/loader:1037:32)\n",
      "\u001b[1;31m    at Module._load (node:internal/modules/cjs/loader:878:12)\n",
      "\u001b[1;31m    at Module.require (node:internal/modules/cjs/loader:1061:19)\n",
      "\u001b[1;31m    at require (node:internal/modules/cjs/helpers:103:18)\n",
      "\u001b[1;31m    at Object.<anonymous> (/Users/kataya1/.nvm/versions/node/v18.12.1/lib/node_modules/ijavascript/node_modules/zeromq/lib/index.js:6:11)\n",
      "\u001b[1;31m\n",
      "\u001b[1;31mNode.js v18.12.1. \n",
      "\u001b[1;31mView Jupyter <a href='command:jupyter.viewOutput'>log</a> for further details."
     ]
    }
   ],
   "source": [
    "\n",
    "// Weakly typed: there is little or no type checking at compile time\n",
    "// You can for example add a number to a string, and the language will do some implicit type conversion to make that work.\n",
    "let foo = 42; // foo is now a number\n",
    "//  Dynamic: change the type of a variable \n",
    "foo = \"56\"; // foo is now a string,\n",
    "\n"
   ]
  },
  {
   "cell_type": "code",
   "execution_count": 7,
   "metadata": {},
   "outputs": [
    {
     "data": {
      "application/javascript": "console.log(42)\n",
      "text/plain": [
       "<IPython.core.display.Javascript object>"
      ]
     },
     "metadata": {},
     "output_type": "display_data"
    }
   ],
   "source": [
    "%%js\n",
    "console.log(42)"
   ]
  }
 ],
 "metadata": {
  "kernelspec": {
   "display_name": "JavaScript (Node.js)",
   "language": "javascript",
   "name": "javascript"
  },
  "language_info": {
   "codemirror_mode": {
    "name": "ipython",
    "version": 3
   },
   "file_extension": ".py",
   "mimetype": "text/x-python",
   "name": "javascript",
   "nbconvert_exporter": "python",
   "pygments_lexer": "ipython3",
   "version": "3.9.6"
  },
  "orig_nbformat": 4,
  "vscode": {
   "interpreter": {
    "hash": "31f2aee4e71d21fbe5cf8b01ff0e069b9275f58929596ceb00d14d90e3e16cd6"
   }
  }
 },
 "nbformat": 4,
 "nbformat_minor": 2
}
